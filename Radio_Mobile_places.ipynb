{
 "cells": [
  {
   "cell_type": "code",
   "execution_count": null,
   "metadata": {},
   "outputs": [],
   "source": [
    "!pip install -U googlemaps"
   ]
  },
  {
   "cell_type": "code",
   "execution_count": 19,
   "metadata": {},
   "outputs": [],
   "source": [
    "import googlemaps\n",
    "from datetime import datetime\n",
    "import time"
   ]
  },
  {
   "cell_type": "code",
   "execution_count": 20,
   "metadata": {},
   "outputs": [],
   "source": [
    "gmaps = googlemaps.Client(key='YOUR_KEY_HERE')"
   ]
  },
  {
   "cell_type": "code",
   "execution_count": 21,
   "metadata": {},
   "outputs": [],
   "source": [
    "QUERY = {'TYPE':\"durban%bank\"}"
   ]
  },
  {
   "cell_type": "code",
   "execution_count": 32,
   "metadata": {},
   "outputs": [],
   "source": [
    "DATA = gmaps.places(type=\"{}\".format(\"bank\"),radius=(5000),query=(QUERY['TYPE']))"
   ]
  },
  {
   "cell_type": "code",
   "execution_count": 33,
   "metadata": {},
   "outputs": [],
   "source": [
    "DIRECTORY = \"MAP_POINTS-Final.txt\"\n",
    "with open(DIRECTORY,\"w\") as FILE:\n",
    "    FILE.write(\"{}\\t{}\\t{}\\t{}\\t{}\\t{}\\t{}\\t{}\\t{}\\t{}\".format(\"Unit name\",\n",
    "                                                   \"Enabled\",\n",
    "                                                   \"Latitude(°)\",\n",
    "                                                   \"Longitude(°)\",\n",
    "                                                   \"Elevation(m)\",\n",
    "                                                   \"Icon\",\n",
    "                                                   \"Forecolor\",\n",
    "                                                   \"Style\",\n",
    "                                                   \"Backcolor\",\n",
    "                                                   \"Text\"))"
   ]
  },
  {
   "cell_type": "code",
   "execution_count": 34,
   "metadata": {},
   "outputs": [],
   "source": [
    "def elevation(lat,lng):\n",
    "    return gmaps.elevation(locations=(lat,lng))[0]['elevation']"
   ]
  },
  {
   "cell_type": "code",
   "execution_count": 35,
   "metadata": {},
   "outputs": [
    {
     "name": "stdout",
     "output_type": "stream",
     "text": [
      "Name of bank is :Capitec Bank Durban Berea Shopping Centre - {'lat': -29.8566432, 'lng': 31.0039223} :\n"
     ]
    }
   ],
   "source": [
    "with open(DIRECTORY,\"a\") as FILE:\n",
    "    for i in range(len(DATA['results'])):\n",
    "            COORD = DATA['results'][i]['geometry']['location']\n",
    "            FILE.write(\"\\n{}\\t{}\\t{}\\t{}\\t{}\\t{}\\t{}\\t{}\\t{}\\t{}\".format(DATA['results'][i]['name'],1,COORD['lat'],\n",
    "                                                  COORD['lng'],elevation(COORD['lat'],COORD['lng']),1,\"FFFFFF\",0,0,\"\"))\n",
    "    \n",
    "    print(\"Name of bank is :{} - {} :\".format(DATA['results'][i]['name'],DATA['results'][i]['geometry']['location']))"
   ]
  },
  {
   "cell_type": "code",
   "execution_count": null,
   "metadata": {},
   "outputs": [],
   "source": []
  }
 ],
 "metadata": {
  "kernelspec": {
   "display_name": "Python 3",
   "language": "python",
   "name": "python3"
  },
  "language_info": {
   "codemirror_mode": {
    "name": "ipython",
    "version": 3
   },
   "file_extension": ".py",
   "mimetype": "text/x-python",
   "name": "python",
   "nbconvert_exporter": "python",
   "pygments_lexer": "ipython3",
   "version": "3.7.7"
  }
 },
 "nbformat": 4,
 "nbformat_minor": 4
}
